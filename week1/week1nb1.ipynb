{
  "nbformat": 4,
  "nbformat_minor": 0,
  "metadata": {
    "colab": {
      "provenance": []
    },
    "kernelspec": {
      "name": "python3",
      "display_name": "Python 3"
    },
    "language_info": {
      "name": "python"
    }
  },
  "cells": [
    {
      "cell_type": "code",
      "source": [
        "!wget \"https://dl.fbaipublicfiles.com/fasttext/vectors-english/wiki-news-300d-1M.vec.zip\"\n",
        "!unzip wiki-news-300d-1M.vec.zip\n",
        "!rm wiki-news-300d-1M.vec.zip"
      ],
      "metadata": {
        "colab": {
          "base_uri": "https://localhost:8080/"
        },
        "id": "e6pVSeWn7f_C",
        "outputId": "b0c5e5fd-ab1a-4230-bc41-8b9c28cc8d1a"
      },
      "execution_count": 1,
      "outputs": [
        {
          "output_type": "stream",
          "name": "stdout",
          "text": [
            "--2024-06-25 14:37:10--  https://dl.fbaipublicfiles.com/fasttext/vectors-english/wiki-news-300d-1M.vec.zip\n",
            "Resolving dl.fbaipublicfiles.com (dl.fbaipublicfiles.com)... 13.35.7.50, 13.35.7.38, 13.35.7.128, ...\n",
            "Connecting to dl.fbaipublicfiles.com (dl.fbaipublicfiles.com)|13.35.7.50|:443... connected.\n",
            "HTTP request sent, awaiting response... 200 OK\n",
            "Length: 681808098 (650M) [application/zip]\n",
            "Saving to: ‘wiki-news-300d-1M.vec.zip’\n",
            "\n",
            "wiki-news-300d-1M.v 100%[===================>] 650.22M   110MB/s    in 6.9s    \n",
            "\n",
            "2024-06-25 14:37:17 (94.4 MB/s) - ‘wiki-news-300d-1M.vec.zip’ saved [681808098/681808098]\n",
            "\n",
            "Archive:  wiki-news-300d-1M.vec.zip\n",
            "  inflating: wiki-news-300d-1M.vec   \n"
          ]
        }
      ]
    },
    {
      "cell_type": "code",
      "source": [
        "!pip install word-vectors scikit-learn"
      ],
      "metadata": {
        "colab": {
          "base_uri": "https://localhost:8080/"
        },
        "collapsed": true,
        "id": "gx4wddtm7ozT",
        "outputId": "939c2cb4-4e07-4cda-ba50-9553475df133"
      },
      "execution_count": 2,
      "outputs": [
        {
          "output_type": "stream",
          "name": "stdout",
          "text": [
            "Collecting word-vectors\n",
            "  Downloading word_vectors-4.0.2-py3-none-any.whl (20 kB)\n",
            "Requirement already satisfied: scikit-learn in /usr/local/lib/python3.10/dist-packages (1.2.2)\n",
            "Collecting file-or-name>=1.1.3 (from word-vectors)\n",
            "  Downloading file-or-name-1.1.6.tar.gz (8.8 kB)\n",
            "  Preparing metadata (setup.py) ... \u001b[?25l\u001b[?25hdone\n",
            "Requirement already satisfied: numpy in /usr/local/lib/python3.10/dist-packages (from word-vectors) (1.25.2)\n",
            "Requirement already satisfied: scipy>=1.3.2 in /usr/local/lib/python3.10/dist-packages (from scikit-learn) (1.11.4)\n",
            "Requirement already satisfied: joblib>=1.1.1 in /usr/local/lib/python3.10/dist-packages (from scikit-learn) (1.4.2)\n",
            "Requirement already satisfied: threadpoolctl>=2.0.0 in /usr/local/lib/python3.10/dist-packages (from scikit-learn) (3.5.0)\n",
            "Building wheels for collected packages: file-or-name\n",
            "  Building wheel for file-or-name (setup.py) ... \u001b[?25l\u001b[?25hdone\n",
            "  Created wheel for file-or-name: filename=file_or_name-1.1.6-py3-none-any.whl size=8115 sha256=e762cdf06026752e180d78f295867ab81d69c5956dff4f6018ec6f72fadbb998\n",
            "  Stored in directory: /root/.cache/pip/wheels/a8/68/b1/6fa6284cfa55b3be86bc5b52feb27b012d86258ccba0572b6e\n",
            "Successfully built file-or-name\n",
            "Installing collected packages: file-or-name, word-vectors\n",
            "Successfully installed file-or-name-1.1.6 word-vectors-4.0.2\n"
          ]
        }
      ]
    },
    {
      "cell_type": "code",
      "source": [
        "!pip install annoy"
      ],
      "metadata": {
        "colab": {
          "base_uri": "https://localhost:8080/"
        },
        "id": "WQZpPB9fM56l",
        "outputId": "b41e706e-57fe-4923-a4ec-07e5937bbcec"
      },
      "execution_count": 3,
      "outputs": [
        {
          "output_type": "stream",
          "name": "stdout",
          "text": [
            "Collecting annoy\n",
            "  Downloading annoy-1.17.3.tar.gz (647 kB)\n",
            "\u001b[2K     \u001b[90m━━━━━━━━━━━━━━━━━━━━━━━━━━━━━━━━━━━━━━━━\u001b[0m \u001b[32m647.5/647.5 kB\u001b[0m \u001b[31m7.5 MB/s\u001b[0m eta \u001b[36m0:00:00\u001b[0m\n",
            "\u001b[?25h  Preparing metadata (setup.py) ... \u001b[?25l\u001b[?25hdone\n",
            "Building wheels for collected packages: annoy\n",
            "  Building wheel for annoy (setup.py) ... \u001b[?25l\u001b[?25hdone\n",
            "  Created wheel for annoy: filename=annoy-1.17.3-cp310-cp310-linux_x86_64.whl size=552451 sha256=2ee49158a958eccd6ce6da9146dc2adc390ac12a22009941ba4d36cce3af4393\n",
            "  Stored in directory: /root/.cache/pip/wheels/64/8a/da/f714bcf46c5efdcfcac0559e63370c21abe961c48e3992465a\n",
            "Successfully built annoy\n",
            "Installing collected packages: annoy\n",
            "Successfully installed annoy-1.17.3\n"
          ]
        }
      ]
    },
    {
      "cell_type": "code",
      "source": [
        "from word_vectors import read\n",
        "\n",
        "import numpy as np\n",
        "import numpy.typing as npt\n",
        "import matplotlib.pyplot as plt\n",
        "\n",
        "from sklearn.decomposition import PCA\n",
        "from sklearn.manifold import TSNE"
      ],
      "metadata": {
        "id": "TxCv8JUX7uWJ"
      },
      "execution_count": 4,
      "outputs": []
    },
    {
      "cell_type": "code",
      "source": [
        "v, wv = read(\"./wiki-news-300d-1M.vec\")"
      ],
      "metadata": {
        "id": "HwQCOJdl8BJj"
      },
      "execution_count": 5,
      "outputs": []
    },
    {
      "cell_type": "code",
      "source": [
        "len(v), wv.shape"
      ],
      "metadata": {
        "colab": {
          "base_uri": "https://localhost:8080/"
        },
        "id": "XUF9U6UX8KUE",
        "outputId": "67dd7c7d-21df-44a0-c30b-a90c3ebd5864"
      },
      "execution_count": 6,
      "outputs": [
        {
          "output_type": "execute_result",
          "data": {
            "text/plain": [
              "(999994, (999994, 300))"
            ]
          },
          "metadata": {},
          "execution_count": 6
        }
      ]
    },
    {
      "cell_type": "code",
      "source": [
        "(wv[0] ** 2).sum() ** 0.5, np.linalg.norm(wv[0])"
      ],
      "metadata": {
        "colab": {
          "base_uri": "https://localhost:8080/"
        },
        "id": "he1WQa7L9TJm",
        "outputId": "692d3fcc-b776-4311-a9e9-dabd28299493"
      },
      "execution_count": 7,
      "outputs": [
        {
          "output_type": "execute_result",
          "data": {
            "text/plain": [
              "(1.664355471614996, 1.6643555)"
            ]
          },
          "metadata": {},
          "execution_count": 7
        }
      ]
    },
    {
      "cell_type": "code",
      "source": [
        "def cosine_sim(v1, v2):\n",
        "    return np.dot(v1, v2) / (np.linalg.norm(v1) * np.linalg.norm(v2))"
      ],
      "metadata": {
        "id": "we3iJ6598VyK"
      },
      "execution_count": 8,
      "outputs": []
    },
    {
      "cell_type": "code",
      "source": [
        "idx_king = v[\"king\"]\n",
        "idx_queen = v[\"queen\"]\n",
        "idx_bottle = v[\"bottle\"]"
      ],
      "metadata": {
        "id": "_nEpuhUd84d7"
      },
      "execution_count": 9,
      "outputs": []
    },
    {
      "cell_type": "code",
      "source": [
        "cosine_sim(wv[idx_king], wv[idx_queen]), cosine_sim(wv[idx_king], wv[idx_bottle])"
      ],
      "metadata": {
        "colab": {
          "base_uri": "https://localhost:8080/"
        },
        "id": "RQX_PddL893o",
        "outputId": "5501920b-cccc-4476-df35-f6ab6e6c5709"
      },
      "execution_count": 10,
      "outputs": [
        {
          "output_type": "execute_result",
          "data": {
            "text/plain": [
              "(0.76385385, 0.34601676)"
            ]
          },
          "metadata": {},
          "execution_count": 10
        }
      ]
    },
    {
      "cell_type": "markdown",
      "source": [
        "The high similarity score between \"king\" and \"queen\", and the low score between \"king\" and \"bottle\" verifies that what we've done so far is correct. Let us plot these vectors in 2D."
      ],
      "metadata": {
        "id": "stJ25AZZ-ATC"
      }
    },
    {
      "cell_type": "markdown",
      "source": [
        "## TODO\n",
        "- get k similar words to a given query word\n",
        "- showcase the famous king-man+woman=queen example!"
      ],
      "metadata": {
        "id": "ckez5oYn_5LZ"
      }
    },
    {
      "cell_type": "code",
      "source": [
        "list(v.keys())[:5]"
      ],
      "metadata": {
        "colab": {
          "base_uri": "https://localhost:8080/"
        },
        "id": "WOarLHSTEnGx",
        "outputId": "34bd4acf-fb72-4acb-c3bc-845d4b51ba66"
      },
      "execution_count": 11,
      "outputs": [
        {
          "output_type": "execute_result",
          "data": {
            "text/plain": [
              "[',', 'the', '.', 'and', 'of']"
            ]
          },
          "metadata": {},
          "execution_count": 11
        }
      ]
    },
    {
      "cell_type": "code",
      "source": [
        "wv[:].shape"
      ],
      "metadata": {
        "colab": {
          "base_uri": "https://localhost:8080/"
        },
        "id": "lVutR_I-FGOl",
        "outputId": "66efc04b-79a6-4eb2-c5d6-7485260484df"
      },
      "execution_count": 12,
      "outputs": [
        {
          "output_type": "execute_result",
          "data": {
            "text/plain": [
              "(999994, 300)"
            ]
          },
          "metadata": {},
          "execution_count": 12
        }
      ]
    },
    {
      "cell_type": "code",
      "source": [
        "query_word = \"king\"\n",
        "similarity_dict = {}\n",
        "\n",
        "for word, idx in v.items():\n",
        "    similarity_dict[word] = cosine_sim(wv[idx], wv[v[query_word]])"
      ],
      "metadata": {
        "id": "k4KGY9BaD3Vj"
      },
      "execution_count": 13,
      "outputs": []
    },
    {
      "cell_type": "code",
      "source": [
        "similarity_dict = {k: v for k,v in sorted(similarity_dict.items(), key=lambda item: item[1], reverse=True)}"
      ],
      "metadata": {
        "id": "QvSRANSoEk94"
      },
      "execution_count": 14,
      "outputs": []
    },
    {
      "cell_type": "code",
      "source": [
        "def get_top_k_similar_words(query_word: str | npt.NDArray, k: int = 10):\n",
        "    similarity_dict = {}\n",
        "\n",
        "    if isinstance(query_word, str):\n",
        "        query_word = wv[v[query_word]]\n",
        "\n",
        "    for word, idx in v.items():\n",
        "        similarity_dict[word] = cosine_sim(wv[idx], query_word)\n",
        "\n",
        "    similarity_dict = {k: v for k,v in sorted(similarity_dict.items(), key=lambda item: item[1], reverse=True)}\n",
        "    return list(similarity_dict.items())[:k]"
      ],
      "metadata": {
        "id": "-8KGrHPRGPxQ"
      },
      "execution_count": 15,
      "outputs": []
    },
    {
      "cell_type": "code",
      "source": [
        "get_top_k_similar_words(\"king\")"
      ],
      "metadata": {
        "colab": {
          "base_uri": "https://localhost:8080/"
        },
        "id": "3n5w7vNdGk39",
        "outputId": "9cd4af9c-1802-4faf-a616-95df2119068e"
      },
      "execution_count": 16,
      "outputs": [
        {
          "output_type": "execute_result",
          "data": {
            "text/plain": [
              "[('king', 1.0),\n",
              " ('kings', 0.7969563),\n",
              " ('queen', 0.76385385),\n",
              " ('monarch', 0.73999715),\n",
              " ('King', 0.7281953),\n",
              " ('prince', 0.71327305),\n",
              " ('kingdom', 0.701478),\n",
              " ('ruler', 0.67771),\n",
              " ('royal', 0.6696851),\n",
              " ('emperor', 0.6599919)]"
            ]
          },
          "metadata": {},
          "execution_count": 16
        }
      ]
    },
    {
      "cell_type": "code",
      "source": [
        "get_top_k_similar_words(wv[v[\"king\"]] - wv[v[\"man\"]] + wv[v[\"woman\"]])"
      ],
      "metadata": {
        "id": "q0aJNovPHHwP",
        "colab": {
          "base_uri": "https://localhost:8080/"
        },
        "outputId": "f9b0ff4c-44a9-469f-d683-e15f118431b3"
      },
      "execution_count": 17,
      "outputs": [
        {
          "output_type": "execute_result",
          "data": {
            "text/plain": [
              "[('king', 0.8655095),\n",
              " ('queen', 0.7673766),\n",
              " ('monarch', 0.69558007),\n",
              " ('kings', 0.69295466),\n",
              " ('princess', 0.6909605),\n",
              " ('woman', 0.65289754),\n",
              " ('lady', 0.62861866),\n",
              " ('prince', 0.62221336),\n",
              " ('kingdom', 0.6208547),\n",
              " ('royal', 0.6090125)]"
            ]
          },
          "metadata": {},
          "execution_count": 17
        }
      ]
    },
    {
      "cell_type": "markdown",
      "source": [
        "Ignoring ([as done by the authors](https://github.com/tmikolov/word2vec/blob/master/word-analogy.c#L120-L122)) \"King\", \"man\" and \"woman\" from the results, we get \"Queen\" as the closest match!"
      ],
      "metadata": {
        "id": "fMl5wCzFiapa"
      }
    },
    {
      "cell_type": "code",
      "source": [
        "get_top_k_similar_words(wv[v[\"queen\"]] - wv[v[\"woman\"]] + wv[v[\"man\"]])"
      ],
      "metadata": {
        "colab": {
          "base_uri": "https://localhost:8080/"
        },
        "id": "ZVmlgEkbZ8ek",
        "outputId": "2dc94e30-a1f3-4a50-8cc0-ea09d1530e21"
      },
      "execution_count": 18,
      "outputs": [
        {
          "output_type": "execute_result",
          "data": {
            "text/plain": [
              "[('queen', 0.86514395),\n",
              " ('king', 0.74810934),\n",
              " ('queens', 0.7166972),\n",
              " ('Queen', 0.64782816),\n",
              " ('kings', 0.6251778),\n",
              " ('monarch', 0.61508614),\n",
              " ('royal', 0.572546),\n",
              " ('queen.', 0.5669484),\n",
              " ('ant', 0.56559515),\n",
              " ('uncrowned', 0.5653542)]"
            ]
          },
          "metadata": {},
          "execution_count": 18
        }
      ]
    },
    {
      "cell_type": "code",
      "source": [
        "get_top_k_similar_words(wv[v[\"woman\"]] - wv[v[\"girl\"]] + wv[v[\"boy\"]])"
      ],
      "metadata": {
        "colab": {
          "base_uri": "https://localhost:8080/"
        },
        "id": "qMDUv_iUa2GQ",
        "outputId": "68b48079-d536-4e4e-f6b7-55e68eceed86"
      },
      "execution_count": 19,
      "outputs": [
        {
          "output_type": "execute_result",
          "data": {
            "text/plain": [
              "[('woman', 0.8509131),\n",
              " ('man', 0.8293935),\n",
              " ('boy', 0.746706),\n",
              " ('men', 0.6425862),\n",
              " ('father', 0.64043474),\n",
              " ('child', 0.63676286),\n",
              " ('mother', 0.6289613),\n",
              " ('lady', 0.6255889),\n",
              " ('soldier', 0.62286997),\n",
              " ('person', 0.6204231)]"
            ]
          },
          "metadata": {},
          "execution_count": 19
        }
      ]
    },
    {
      "cell_type": "code",
      "source": [
        "get_top_k_similar_words(wv[v[\"mouse\"]] + wv[v[\"keys\"]])"
      ],
      "metadata": {
        "id": "DKVNfLgnESOo",
        "colab": {
          "base_uri": "https://localhost:8080/"
        },
        "outputId": "409743a4-e2b3-49ae-a6a7-109c6535d401"
      },
      "execution_count": 20,
      "outputs": [
        {
          "output_type": "execute_result",
          "data": {
            "text/plain": [
              "[('mouse', 0.8467821),\n",
              " ('keys', 0.8205895),\n",
              " ('keyboard', 0.73110205),\n",
              " ('mice', 0.6779792),\n",
              " ('mouses', 0.6236643),\n",
              " ('key', 0.6178266),\n",
              " ('cursor', 0.61595786),\n",
              " ('keyboards', 0.6078147),\n",
              " ('scroll-wheel', 0.6005548),\n",
              " ('keyset', 0.5945325)]"
            ]
          },
          "metadata": {},
          "execution_count": 20
        }
      ]
    },
    {
      "cell_type": "code",
      "source": [
        "mouse_words = get_top_k_similar_words(wv[v[\"mouse\"]], k=50)\n",
        "sim_word_vec = np.array([wv[v[word]] for word,_ in mouse_words])"
      ],
      "metadata": {
        "id": "659zCx1hE5x1"
      },
      "execution_count": 21,
      "outputs": []
    },
    {
      "cell_type": "code",
      "source": [
        "pca_reduced = PCA(n_components=50).fit_transform(sim_word_vec)\n",
        "pca_reduced.shape"
      ],
      "metadata": {
        "colab": {
          "base_uri": "https://localhost:8080/"
        },
        "id": "mF-7gpZfE6CV",
        "outputId": "56ba4008-b2e7-41f3-993f-17f8f0c92738"
      },
      "execution_count": 22,
      "outputs": [
        {
          "output_type": "execute_result",
          "data": {
            "text/plain": [
              "(50, 50)"
            ]
          },
          "metadata": {},
          "execution_count": 22
        }
      ]
    },
    {
      "cell_type": "code",
      "source": [
        "tsne_reduced = TSNE(n_components=2).fit_transform(pca_reduced)\n",
        "tsne_reduced.shape"
      ],
      "metadata": {
        "colab": {
          "base_uri": "https://localhost:8080/"
        },
        "id": "iziEQu3iG_yV",
        "outputId": "be42522b-b929-4055-ca39-a4dd0c16c6ee"
      },
      "execution_count": 23,
      "outputs": [
        {
          "output_type": "execute_result",
          "data": {
            "text/plain": [
              "(50, 2)"
            ]
          },
          "metadata": {},
          "execution_count": 23
        }
      ]
    },
    {
      "cell_type": "code",
      "source": [
        "x, y = tsne_reduced[:, 0], tsne_reduced[:, 1]\n",
        "fig, ax = plt.subplots()\n",
        "ax.scatter(x, y)\n",
        "\n",
        "for i,label in enumerate(mouse_words):\n",
        "    ax.annotate(label[0], (x[i], y[i]))\n",
        "\n",
        "plt.show()"
      ],
      "metadata": {
        "colab": {
          "base_uri": "https://localhost:8080/",
          "height": 430
        },
        "id": "M15smRIwHeTx",
        "outputId": "9afcaf9c-ddf9-42b7-b3c8-d58e3984f04d"
      },
      "execution_count": 24,
      "outputs": [
        {
          "output_type": "display_data",
          "data": {
            "text/plain": [
              "<Figure size 640x480 with 1 Axes>"
            ],
            "image/png": "[encoded data removed]"
          },
          "metadata": {}
        }
      ]
    },
    {
      "cell_type": "markdown",
      "source": [
        "## TODO\n",
        "\n",
        "- Index and run ANN using spotify Annoy"
      ],
      "metadata": {
        "id": "h6fHDD56N_g5"
      }
    },
    {
      "cell_type": "code",
      "source": [
        "from annoy import AnnoyIndex\n",
        "\n",
        "f = wv.shape[1]\n",
        "t = AnnoyIndex(f, \"angular\")\n",
        "for i, (word, vec) in enumerate(zip(v.keys(), wv)):\n",
        "    t.add_item(i, vec)"
      ],
      "metadata": {
        "id": "JsP_M0W-G_4Y"
      },
      "execution_count": 32,
      "outputs": []
    },
    {
      "cell_type": "code",
      "source": [
        "t.build(100, n_jobs=-1)"
      ],
      "metadata": {
        "id": "2PEuFEUcGbPR"
      },
      "execution_count": null,
      "outputs": []
    },
    {
      "cell_type": "code",
      "source": [
        "t.save(\"fasttext_wiki-news-300d-1M.vec_100trees.ann\")"
      ],
      "metadata": {
        "id": "wkIGvtTzIpH_",
        "outputId": "8254c570-8100-4390-a456-4e2263b252ec",
        "colab": {
          "base_uri": "https://localhost:8080/"
        }
      },
      "execution_count": 35,
      "outputs": [
        {
          "output_type": "execute_result",
          "data": {
            "text/plain": [
              "True"
            ]
          },
          "metadata": {},
          "execution_count": 35
        }
      ]
    },
    {
      "cell_type": "code",
      "source": [
        "# load saved index\n",
        "# t = AnnoyIndex(f, \"angular\")\n",
        "# t.load(\"fasttext_wiki-news-300d-1M.vec_100trees.ann\")"
      ],
      "metadata": {
        "id": "VXMxfLgMGLb1"
      },
      "execution_count": 36,
      "outputs": []
    },
    {
      "cell_type": "code",
      "source": [
        "i2w = {val:k for k,val in v.items()}"
      ],
      "metadata": {
        "id": "XH6pmM5MQsxI"
      },
      "execution_count": 41,
      "outputs": []
    },
    {
      "cell_type": "code",
      "source": [
        "idxs, dists = t.get_nns_by_item(v[\"king\"], 10, include_distances=True)"
      ],
      "metadata": {
        "id": "r-GJQnAIOdc4"
      },
      "execution_count": 44,
      "outputs": []
    },
    {
      "cell_type": "code",
      "source": [
        "sorted([(i2w[idx], dists[i]) for i,idx in enumerate(idxs)], reverse=True, key=lambda item: item[1])"
      ],
      "metadata": {
        "id": "LghgvOyrOdoU",
        "outputId": "e11f4244-6193-423c-e1f7-de28ea023b56",
        "colab": {
          "base_uri": "https://localhost:8080/"
        }
      },
      "execution_count": 51,
      "outputs": [
        {
          "output_type": "execute_result",
          "data": {
            "text/plain": [
              "[('princess', 0.838099479675293),\n",
              " ('emperor', 0.8246307969093323),\n",
              " ('royal', 0.8127913475036621),\n",
              " ('ruler', 0.8028574585914612),\n",
              " ('kingdom', 0.7726863026618958),\n",
              " ('prince', 0.757267415523529),\n",
              " ('monarch', 0.7211143374443054),\n",
              " ('queen', 0.6872350573539734),\n",
              " ('kings', 0.6372497081756592),\n",
              " ('king', 0.0)]"
            ]
          },
          "metadata": {},
          "execution_count": 51
        }
      ]
    },
    {
      "cell_type": "code",
      "source": [],
      "metadata": {
        "id": "iisZqWZoSHcf"
      },
      "execution_count": null,
      "outputs": []
    }
  ]
}