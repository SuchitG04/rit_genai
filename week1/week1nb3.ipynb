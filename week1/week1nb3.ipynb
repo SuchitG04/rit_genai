{
 "cells": [
  {
   "cell_type": "code",
   "execution_count": 1,
   "id": "673e68ed-7b46-47b0-b061-c624e079b767",
   "metadata": {},
   "outputs": [],
   "source": [
    "import pandas as pd\n",
    "import os\n",
    "from pathlib import Path\n",
    "import matplotlib.pyplot as plt"
   ]
  },
  {
   "cell_type": "code",
   "execution_count": 2,
   "id": "b4ffb0f7-3e9c-4f90-8f6d-ce553f5a373a",
   "metadata": {},
   "outputs": [],
   "source": [
    "import fasttext\n",
    "import numpy as np\n",
    "from numpy.linalg import norm\n",
    "import string"
   ]
  },
  {
   "cell_type": "code",
   "execution_count": 3,
   "id": "5d95fc94-099d-419b-85f1-263125b084c3",
   "metadata": {},
   "outputs": [],
   "source": [
    "from word_vectors.read import read\n",
    "from word_vectors import FileType"
   ]
  },
  {
   "cell_type": "code",
   "execution_count": 104,
   "id": "af608c5d-4ed6-4a56-aab8-873fceb46104",
   "metadata": {},
   "outputs": [],
   "source": [
    "import random\n",
    "from itertools import islice\n",
    "\n",
    "import torch\n",
    "from torch import tensor\n",
    "import torch.nn as nn\n",
    "import torch.optim as optim\n",
    "from torch.optim.lr_scheduler import LambdaLR\n",
    "\n",
    "from sklearn.model_selection import train_test_split\n",
    "\n",
    "device = (\n",
    "    \"cuda\" if torch.cuda.is_available()\n",
    "    else \"cpu\"\n",
    ")"
   ]
  },
  {
   "cell_type": "code",
   "execution_count": 5,
   "id": "48e20522-5c1f-43ed-be46-9d9113fb972b",
   "metadata": {},
   "outputs": [],
   "source": [
    "data_dir = \"data\"\n",
    "\n",
    "# append to df with label\n",
    "def add_to_df(dataframe, label, file_name):\n",
    "    with open(Path(data_dir)/file_name) as f:\n",
    "        for line in f.readlines():\n",
    "            new_row = pd.DataFrame([ [line.strip(), label] ], columns=dataframe.columns)\n",
    "            dataframe = pd.concat([new_row, dataframe], ignore_index=True)\n",
    "    return dataframe\n",
    "\n",
    "df = pd.DataFrame(columns=[\"review\", \"label\"])\n",
    "files = os.listdir(data_dir)\n",
    "\n",
    "# assign labels based on file name\n",
    "for file in files:\n",
    "    if \"positive\" in file.lower():\n",
    "        df = add_to_df(df, 1, file)\n",
    "    elif \"negative\" in file.lower():\n",
    "        df = add_to_df(df, 0, file)"
   ]
  },
  {
   "cell_type": "code",
   "execution_count": 6,
   "id": "a3f8f188-6f15-4264-ae21-2e23f0e11a2b",
   "metadata": {},
   "outputs": [],
   "source": [
    "drop_idxs = df[df.review==''].index\n",
    "df.drop(drop_idxs, inplace=True)"
   ]
  },
  {
   "cell_type": "code",
   "execution_count": 7,
   "id": "05b10081-2932-4313-9e54-acbb19d6055c",
   "metadata": {},
   "outputs": [
    {
     "data": {
      "text/plain": [
       "[]"
      ]
     },
     "execution_count": 7,
     "metadata": {},
     "output_type": "execute_result"
    },
    {
     "data": {
      "image/png": "[encoded data removed]",
      "text/plain": [
       "<Figure size 640x480 with 1 Axes>"
      ]
     },
     "metadata": {},
     "output_type": "display_data"
    }
   ],
   "source": [
    "fig, ax = plt.subplots()\n",
    "ax.bar(\"positive\", df.loc[df.label == 1].count())\n",
    "ax.bar(\"negative\", df.loc[df.label == 0].count())\n",
    "plt.plot()"
   ]
  },
  {
   "cell_type": "code",
   "execution_count": 8,
   "id": "440ca7c7-883a-47f0-aa0a-82b49ba2c04b",
   "metadata": {},
   "outputs": [],
   "source": [
    "model = fasttext.load_model(\"wiki-news-300d-1M-subword.bin\")"
   ]
  },
  {
   "cell_type": "code",
   "execution_count": 9,
   "id": "ec8fa2a4-b545-49ad-94ae-ba22e7f3b21f",
   "metadata": {},
   "outputs": [],
   "source": [
    "class ReviewsClassifier(nn.Module):\n",
    "    def __init__(self):\n",
    "        super().__init__()\n",
    "\n",
    "        self.linear1 = nn.Linear(300, 800)\n",
    "        self.linear2 = nn.Linear(800, 200)\n",
    "        self.linear3 = nn.Linear(200, 1)\n",
    "        self.activation = nn.ReLU()\n",
    "        self.sigmoid = nn.Sigmoid()\n",
    "\n",
    "    def forward(self, x):\n",
    "        x = self.linear1(x)\n",
    "        x = self.activation(x)\n",
    "        x = self.linear2(x)\n",
    "        x = self.activation(x)\n",
    "        x = self.linear3(x)\n",
    "        x = self.sigmoid(x)\n",
    "        return x"
   ]
  },
  {
   "cell_type": "code",
   "execution_count": 10,
   "id": "ded4b1e8-f155-4ccf-a463-e9e749a1886b",
   "metadata": {},
   "outputs": [],
   "source": [
    "class Dataset:\n",
    "    def __init__(self, df, proc_fn): self.df, self.proc_fn = df, proc_fn\n",
    "    def __len__(self): return len(self.df)\n",
    "    def __getitem__(self, i):\n",
    "        return tensor(self.proc_fn(df.review.iloc[i]), device=device), tensor(self.df.label.iloc[i], dtype=torch.float32, device=device)\n",
    "\n",
    "class DataLoader:\n",
    "    def __init__(self, ds, batches, collate_fn):\n",
    "        self.ds = ds\n",
    "        self.batches = batches\n",
    "        self.collate_fn = collate_fn\n",
    "        \n",
    "    def __iter__(self):\n",
    "        yield from (self.collate_fn(self.ds[i] for i in b) for b in self.batches)\n",
    "\n",
    "class Sampler:\n",
    "    def __init__(self, ds, shuffle=True): self.n, self.shuffle = len(ds), shuffle\n",
    "    def __iter__(self):\n",
    "        res = list(range(self.n))\n",
    "        if self.shuffle: random.shuffle(res)\n",
    "        return iter(res)\n",
    "\n",
    "class BatchSampler:\n",
    "    def __init__(self, sampler, bs, drop_last=False): self.sampler, self.bs, self.drop_last = sampler, bs, drop_last\n",
    "    def __iter__(self):\n",
    "        yield from chunked(iter(self.sampler), self.bs, drop_last=self.drop_last)"
   ]
  },
  {
   "cell_type": "code",
   "execution_count": 11,
   "id": "31d5c6c3-4755-4524-a7cd-ce9f919559b2",
   "metadata": {},
   "outputs": [],
   "source": [
    "# get and collate (x, y) elements provided a batch of indices\n",
    "def collate(b):\n",
    "    xs, y = zip(*b)\n",
    "    return torch.stack(xs), torch.stack(y)"
   ]
  },
  {
   "cell_type": "code",
   "execution_count": 12,
   "id": "3b4200f3-a746-44e7-bd7c-5bcd5a27f7d9",
   "metadata": {},
   "outputs": [],
   "source": [
    "bsz = 64"
   ]
  },
  {
   "cell_type": "code",
   "execution_count": 99,
   "id": "10c97448-1d24-4f39-a526-46accf12b0e8",
   "metadata": {},
   "outputs": [],
   "source": [
    "trn, test = train_test_split(df, train_size=0.9, random_state=42, shuffle=True, stratify=df.label)\n",
    "\n",
    "sv = model.get_sentence_vector\n",
    "trn_ds, test_ds = Dataset(trn, sv), Dataset(test, sv)\n",
    "\n",
    "# trn_batches = BatchSampler(Sampler(trn_ds, shuffle=True), bsz)\n",
    "# val_batches = BatchSampler(Sampler(val_ds, shuffle=True), bsz)\n",
    "\n",
    "# trn_dl = DataLoader(trn_ds, trn_batches, collate)\n",
    "# val_dl = DataLoader(val_ds, val_batches, collate)"
   ]
  },
  {
   "cell_type": "code",
   "execution_count": 100,
   "id": "50ca9d29-2639-44bd-a301-7b6608039f5e",
   "metadata": {},
   "outputs": [],
   "source": [
    "def cust_collate(b):\n",
    "    xs, y = zip(*b)\n",
    "    return torch.stack(xs), torch.stack(y)"
   ]
  },
  {
   "cell_type": "code",
   "execution_count": 101,
   "id": "f4acf216-de05-4bb8-a8fb-f2965a10583c",
   "metadata": {},
   "outputs": [],
   "source": [
    "torch.manual_seed(69)\n",
    "classifier = ReviewsClassifier().to(device)\n",
    "loss_fn = nn.BCELoss()\n",
    "\n",
    "lossi = []\n",
    "stepi = []"
   ]
  },
  {
   "cell_type": "code",
   "execution_count": 77,
   "id": "904caadf-06ae-4d07-8207-eda4584723f3",
   "metadata": {},
   "outputs": [],
   "source": [
    "lr = 0.01\n",
    "optimizer = optim.SGD(classifier.parameters(), lr=lr, momentum=0.7)\n",
    "scheduler = LambdaLR(optimizer, lr_lambda=[lambda epoch: ])"
   ]
  },
  {
   "cell_type": "code",
   "execution_count": 17,
   "id": "c6df1d39-04b0-401a-90ec-5222e420ee8a",
   "metadata": {},
   "outputs": [],
   "source": [
    "trn_collated_xs, trn_collated_y = cust_collate(trn_ds)\n",
    "val_collated_xs, val_collated_y = cust_collate(val_ds)\n",
    "\n",
    "def calc_loss(xs, y):\n",
    "    preds = classifier(xs)\n",
    "    return loss_fn(preds, y.unsqueeze(-1))\n",
    "\n",
    "def get_loss(split: str):\n",
    "    if split == \"trn\":\n",
    "        return calc_loss(trn_collated_xs, trn_collated_y)\n",
    "    else:\n",
    "        return calc_loss(val_collated_xs, val_collated_y)"
   ]
  },
  {
   "cell_type": "code",
   "execution_count": 18,
   "id": "f3e29ce5-9d49-45c6-9f29-7dc31f0c9090",
   "metadata": {},
   "outputs": [
    {
     "data": {
      "text/plain": [
       "(torch.Size([8968, 300]), torch.Size([2242, 300]))"
      ]
     },
     "execution_count": 18,
     "metadata": {},
     "output_type": "execute_result"
    }
   ],
   "source": [
    "trn_collated_xs.shape, val_collated_xs.shape"
   ]
  },
  {
   "cell_type": "code",
   "execution_count": 30,
   "id": "53bc1ba5-fe08-483a-a593-fdf4948de431",
   "metadata": {},
   "outputs": [],
   "source": [
    "ds = Dataset(df, sv)\n",
    "full_xs, full_y = cust_collate(ds)"
   ]
  },
  {
   "cell_type": "code",
   "execution_count": 20,
   "id": "7fda8e9f-3d47-4f3e-8d7f-bb2cacd867c0",
   "metadata": {},
   "outputs": [],
   "source": [
    "idxs = torch.randint(0, len(trn_ds), (bsz, ), device=device)\n",
    "xs, y = trn_collated_xs[idxs], trn_collated_y[idxs]"
   ]
  },
  {
   "cell_type": "code",
   "execution_count": 21,
   "id": "5838dcd7-dd9f-4301-b91f-ba88ea58bbfd",
   "metadata": {},
   "outputs": [
    {
     "data": {
      "text/plain": [
       "torch.Size([42, 1])"
      ]
     },
     "execution_count": 21,
     "metadata": {},
     "output_type": "execute_result"
    }
   ],
   "source": [
    "torch.nonzero(trn_collated_y[idxs]).shape"
   ]
  },
  {
   "cell_type": "code",
   "execution_count": 82,
   "id": "ec6a5f68-67e6-4a61-9763-1dbc12bbf503",
   "metadata": {
    "scrolled": true
   },
   "outputs": [
    {
     "name": "stdout",
     "output_type": "stream",
     "text": [
      "Epoch: 0; Loss: 0.17806491255760193\n",
      "Epoch: 100; Loss: 0.1954050213098526\n",
      "Epoch: 200; Loss: 0.03775699436664581\n",
      "Epoch: 300; Loss: 0.10854121297597885\n",
      "Epoch: 400; Loss: 0.04881683364510536\n",
      "Epoch: 500; Loss: 0.09797021746635437\n",
      "Epoch: 600; Loss: 0.11752130091190338\n",
      "Epoch: 700; Loss: 0.035540059208869934\n",
      "Epoch: 800; Loss: 0.09028282016515732\n",
      "Epoch: 900; Loss: 0.1732087880373001\n",
      "Epoch: 1000; Loss: 0.043521031737327576\n",
      "Epoch: 1100; Loss: 0.08361829072237015\n",
      "Epoch: 1200; Loss: 0.0779242217540741\n",
      "Epoch: 1300; Loss: 0.05529097467660904\n",
      "Epoch: 1400; Loss: 0.1400676667690277\n",
      "Epoch: 1500; Loss: 0.06470827758312225\n",
      "Epoch: 1600; Loss: 0.10290267318487167\n",
      "Epoch: 1700; Loss: 0.052127905189991\n",
      "Epoch: 1800; Loss: 0.16899357736110687\n",
      "Epoch: 1900; Loss: 0.13190589845180511\n",
      "Epoch: 2000; Loss: 0.07056650519371033\n",
      "Epoch: 2100; Loss: 0.133524551987648\n",
      "Epoch: 2200; Loss: 0.05451710522174835\n",
      "Epoch: 2300; Loss: 0.09841106086969376\n",
      "Epoch: 2400; Loss: 0.06448061764240265\n",
      "Epoch: 2500; Loss: 0.050996556878089905\n",
      "Epoch: 2600; Loss: 0.07540831714868546\n",
      "Epoch: 2700; Loss: 0.16709724068641663\n",
      "Epoch: 2800; Loss: 0.1708519160747528\n",
      "Epoch: 2900; Loss: 0.10803178697824478\n",
      "Epoch: 3000; Loss: 0.0888160839676857\n",
      "Epoch: 3100; Loss: 0.09423065185546875\n",
      "Epoch: 3200; Loss: 0.07397916167974472\n",
      "Epoch: 3300; Loss: 0.05739923566579819\n",
      "Epoch: 3400; Loss: 0.12913581728935242\n",
      "Epoch: 3500; Loss: 0.0280297938734293\n",
      "Epoch: 3600; Loss: 0.10019654780626297\n",
      "Epoch: 3700; Loss: 0.05105103179812431\n",
      "Epoch: 3800; Loss: 0.05830123648047447\n",
      "Epoch: 3900; Loss: 0.19942428171634674\n",
      "Epoch: 4000; Loss: 0.12897275388240814\n",
      "Epoch: 4100; Loss: 0.04889441654086113\n",
      "Epoch: 4200; Loss: 0.045109692960977554\n",
      "Epoch: 4300; Loss: 0.08313624560832977\n",
      "Epoch: 4400; Loss: 0.04815366864204407\n",
      "Epoch: 4500; Loss: 0.14943230152130127\n",
      "Epoch: 4600; Loss: 0.08389519155025482\n",
      "Epoch: 4700; Loss: 0.07759828865528107\n",
      "Epoch: 4800; Loss: 0.17246626317501068\n",
      "Epoch: 4900; Loss: 0.12373571842908859\n",
      "Epoch: 5000; Loss: 0.12096057087182999\n",
      "Epoch: 5100; Loss: 0.04048077017068863\n",
      "Epoch: 5200; Loss: 0.13123546540737152\n",
      "Epoch: 5300; Loss: 0.043788909912109375\n",
      "Epoch: 5400; Loss: 0.11669757217168808\n",
      "Epoch: 5500; Loss: 0.04961457848548889\n",
      "Epoch: 5600; Loss: 0.08900964260101318\n",
      "Epoch: 5700; Loss: 0.11714603006839752\n",
      "Epoch: 5800; Loss: 0.0316937230527401\n",
      "Epoch: 5900; Loss: 0.12459865212440491\n",
      "Epoch: 6000; Loss: 0.07989037036895752\n",
      "Epoch: 6100; Loss: 0.05480934679508209\n",
      "Epoch: 6200; Loss: 0.11243902146816254\n",
      "Epoch: 6300; Loss: 0.12094227969646454\n",
      "Epoch: 6400; Loss: 0.09179501980543137\n",
      "Epoch: 6500; Loss: 0.07349679619073868\n",
      "Epoch: 6600; Loss: 0.18944571912288666\n",
      "Epoch: 6700; Loss: 0.07138290256261826\n",
      "Epoch: 6800; Loss: 0.1366688311100006\n",
      "Epoch: 6900; Loss: 0.08885448426008224\n",
      "Epoch: 7000; Loss: 0.05861508846282959\n",
      "Epoch: 7100; Loss: 0.18774090707302094\n",
      "Epoch: 7200; Loss: 0.07849399745464325\n",
      "Epoch: 7300; Loss: 0.16039283573627472\n",
      "Epoch: 7400; Loss: 0.07203765958547592\n",
      "Epoch: 7500; Loss: 0.1427958756685257\n",
      "Epoch: 7600; Loss: 0.13384732604026794\n",
      "Epoch: 7700; Loss: 0.08991013467311859\n",
      "Epoch: 7800; Loss: 0.06359860301017761\n",
      "Epoch: 7900; Loss: 0.10774463415145874\n",
      "Epoch: 8000; Loss: 0.054545894265174866\n",
      "Epoch: 8100; Loss: 0.18608124554157257\n",
      "Epoch: 8200; Loss: 0.15980099141597748\n",
      "Epoch: 8300; Loss: 0.05275575444102287\n",
      "Epoch: 8400; Loss: 0.09658198058605194\n",
      "Epoch: 8500; Loss: 0.036357101052999496\n",
      "Epoch: 8600; Loss: 0.14137625694274902\n",
      "Epoch: 8700; Loss: 0.05219563841819763\n",
      "Epoch: 8800; Loss: 0.03998420014977455\n",
      "Epoch: 8900; Loss: 0.13627368211746216\n",
      "Epoch: 9000; Loss: 0.07831253856420517\n",
      "Epoch: 9100; Loss: 0.12683044373989105\n",
      "Epoch: 9200; Loss: 0.07828623056411743\n",
      "Epoch: 9300; Loss: 0.06320985406637192\n",
      "Epoch: 9400; Loss: 0.13494983315467834\n",
      "Epoch: 9500; Loss: 0.18600255250930786\n",
      "Epoch: 9600; Loss: 0.18593081831932068\n",
      "Epoch: 9700; Loss: 0.11509444564580917\n",
      "Epoch: 9800; Loss: 0.20567554235458374\n",
      "Epoch: 9900; Loss: 0.059413842856884\n"
     ]
    }
   ],
   "source": [
    "for i in range(10000):\n",
    "    idxs = torch.randint(0, len(ds), (bsz, ), device=device)\n",
    "    # xs, y = (trn_collated_xs[idxs], trn_collated_y[idxs])\n",
    "    xs, y = full_xs[idxs], full_y[idxs]\n",
    "    optimizer.zero_grad()\n",
    "    preds = classifier(xs)\n",
    "    loss_w = loss_fn(preds, y.unsqueeze(-1))\n",
    "    loss_w.backward()\n",
    "    optimizer.step()\n",
    "\n",
    "    if i > 100000:\n",
    "        \n",
    "    if i % 100 == 0:\n",
    "    #     with torch.no_grad():\n",
    "    #         trn_loss = get_loss(\"trn\")\n",
    "    #         val_loss = get_loss(\"val\")\n",
    "        print(f\"Epoch: {i}; Loss: {loss_w}\")\n",
    "    lossi.append(loss_w.item())"
   ]
  },
  {
   "cell_type": "code",
   "execution_count": 83,
   "id": "99202658-83aa-4552-ad9c-63fff1534f48",
   "metadata": {},
   "outputs": [
    {
     "data": {
      "text/plain": [
       "[<matplotlib.lines.Line2D at 0x7fe5c55b3df0>]"
      ]
     },
     "execution_count": 83,
     "metadata": {},
     "output_type": "execute_result"
    },
    {
     "data": {
      "image/png": "[encoded data removed]",
      "text/plain": [
       "<Figure size 640x480 with 1 Axes>"
      ]
     },
     "metadata": {},
     "output_type": "display_data"
    }
   ],
   "source": [
    "plt.plot(range(len(lossi)), lossi)"
   ]
  },
  {
   "cell_type": "code",
   "execution_count": 84,
   "id": "f7784c8b-6c4f-4bc6-85da-afeb3c9dde60",
   "metadata": {},
   "outputs": [
    {
     "data": {
      "text/plain": [
       "0.01028359867632389"
      ]
     },
     "execution_count": 84,
     "metadata": {},
     "output_type": "execute_result"
    }
   ],
   "source": [
    "min(lossi)"
   ]
  },
  {
   "cell_type": "code",
   "execution_count": 93,
   "id": "14e1fd4d-e305-4f43-8078-c42e4384caa5",
   "metadata": {},
   "outputs": [],
   "source": [
    "def inference(inp):\n",
    "    with torch.no_grad():\n",
    "        p = classifier(tensor(model.get_sentence_vector(inp)))\n",
    "        return p.item()"
   ]
  },
  {
   "cell_type": "code",
   "execution_count": 95,
   "id": "00afcd92-bcd3-439f-a69d-9750baf3b5ea",
   "metadata": {},
   "outputs": [
    {
     "data": {
      "text/plain": [
       "0.0185760036110878"
      ]
     },
     "execution_count": 95,
     "metadata": {},
     "output_type": "execute_result"
    }
   ],
   "source": [
    "inference(\"The shirts came out are ok, VERY bunched embroidery. The pricing on this website makes no sense at all. It seems to change every day and it's incredibly frustrating. Their marketing team needs to take a chill pill and stop sending 100 emails per week. For us it's just not worth it to \\\"shop small\\\" anymore, our orders from custom ink have been faster and higher quality.\")"
   ]
  },
  {
   "cell_type": "code",
   "execution_count": 96,
   "id": "980109ab-9a73-47b2-bdb5-763ad66eb82e",
   "metadata": {},
   "outputs": [
    {
     "data": {
      "text/plain": [
       "0.0016490574926137924"
      ]
     },
     "execution_count": 96,
     "metadata": {},
     "output_type": "execute_result"
    }
   ],
   "source": [
    "inference(\"These people are so stupid they cant even get your billing info correct, I need my shirts and they were suppose to be here on May, 10th they acually shipped it thru USPS instead of Ups, they lied and I do not recommend this company for anything.\")"
   ]
  },
  {
   "cell_type": "code",
   "execution_count": 97,
   "id": "5c5b59ae-a722-4316-96c1-51106c768d97",
   "metadata": {},
   "outputs": [
    {
     "data": {
      "text/plain": [
       "0.9050244092941284"
      ]
     },
     "execution_count": 97,
     "metadata": {},
     "output_type": "execute_result"
    }
   ],
   "source": [
    "inference(\"Product was as described and delivered in a timely manner.\")"
   ]
  },
  {
   "cell_type": "code",
   "execution_count": 98,
   "id": "7da26e6e-3016-450f-84ce-d30bd5a22120",
   "metadata": {},
   "outputs": [
    {
     "data": {
      "text/plain": [
       "0.8924559950828552"
      ]
     },
     "execution_count": 98,
     "metadata": {},
     "output_type": "execute_result"
    }
   ],
   "source": [
    "inference(\"Enjoy Queensboro products and have ordered multiple times. I had expectations with an Order on Dec 1st, logo approved Dec 5th that it would arrive by Christmas. Unfortunately, it shipped Dec 30th and received January 4th. Would be nice to have more communication of when to expect versus just \\\"in line for production\\\" or \\\"in production\\\" as it was \\\"in production for what seemed like a week or more. Service has always been excellent.\")"
   ]
  },
  {
   "cell_type": "code",
   "execution_count": null,
   "id": "cef63606-9bf9-41ca-b04e-5fd2d178d687",
   "metadata": {},
   "outputs": [],
   "source": []
  }
 ],
 "metadata": {
  "kernelspec": {
   "display_name": "Python 3",
   "language": "python",
   "name": "python3"
  },
  "language_info": {
   "codemirror_mode": {
    "name": "ipython",
    "version": 3
   },
   "file_extension": ".py",
   "mimetype": "text/x-python",
   "name": "python",
   "nbconvert_exporter": "python",
   "pygments_lexer": "ipython3",
   "version": "3.10.10"
  }
 },
 "nbformat": 4,
 "nbformat_minor": 5
}
